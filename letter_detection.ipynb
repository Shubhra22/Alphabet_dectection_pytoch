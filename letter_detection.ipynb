{
 "cells": [
  {
   "cell_type": "code",
   "execution_count": 120,
   "metadata": {},
   "outputs": [],
   "source": [
    "import matplotlib.pyplot as plt\n",
    "\n",
    "from PIL import Image\n",
    "import torch\n",
    "from torch import nn\n",
    "from torch import optim\n",
    "from torchvision import datasets,transforms,models"
   ]
  },
  {
   "cell_type": "code",
   "execution_count": 115,
   "metadata": {},
   "outputs": [],
   "source": [
    "data_dir = 'all_data'\n",
    "# TODO: Define transforms for the training data and testing data\n",
    "train_transforms = transforms.Compose([transforms.RandomRotation(30),\n",
    "                                      transforms.RandomResizedCrop(224),\n",
    "                                      transforms.RandomHorizontalFlip(),\n",
    "                                      transforms.ToTensor(),\n",
    "                                      transforms.Normalize([0.485, 0.456, 0.406],\n",
    "                                                           [0.229, 0.224, 0.225])\n",
    "                                      ])\n",
    "\n",
    "test_transforms = transforms.Compose([transforms.Resize(255),\n",
    "                                      transforms.CenterCrop(224),\n",
    "                                      transforms.ToTensor(),\n",
    "                                      transforms.Normalize([0.485, 0.456, 0.406],\n",
    "                                                           [0.229, 0.224, 0.225])])\n",
    "\n",
    "\n",
    "# Pass transforms in here, then run the next cell to see how the transforms look\n",
    "train_data = datasets.ImageFolder(data_dir + '/train', transform=train_transforms)\n",
    "test_data = datasets.ImageFolder(data_dir + '/test', transform=test_transforms)\n",
    "\n",
    "trainloader = torch.utils.data.DataLoader(train_data, batch_size=64, shuffle=True)\n",
    "testloader = torch.utils.data.DataLoader(test_data, batch_size=1)\n"
   ]
  },
  {
   "cell_type": "code",
   "execution_count": 116,
   "metadata": {},
   "outputs": [],
   "source": [
    "model = models.densenet121(pretrained=True)\n",
    "device = torch.device(\"cuda\" if torch.cuda.is_available() else \"cpu\")"
   ]
  },
  {
   "cell_type": "code",
   "execution_count": 117,
   "metadata": {},
   "outputs": [],
   "source": [
    "for param in model.parameters():\n",
    "    param.requires_grad = False\n",
    "\n",
    "from collections import OrderedDict\n",
    "classifier = nn.Sequential(OrderedDict([\n",
    "                            ('fc1',nn.Linear(1024,512)),\n",
    "                            ('relu1',nn.ReLU()),\n",
    "                            ('fc2',nn.Linear(512,128)),\n",
    "                            ('relu2',nn.ReLU()),\n",
    "                            ('fc3',nn.Linear(128,2)),\n",
    "                            ('output',nn.LogSoftmax(dim=1))\n",
    "                           ]))\n",
    "model.classifier = classifier\n",
    "criterion = nn.NLLLoss()\n",
    "\n",
    "# Only train the classifier parameters, feature parameters are frozen\n",
    "optimizer = optim.Adam(model.classifier.parameters(), lr=0.003)\n",
    "\n",
    "model.to(device);"
   ]
  },
  {
   "cell_type": "code",
   "execution_count": 119,
   "metadata": {},
   "outputs": [
    {
     "name": "stdout",
     "output_type": "stream",
     "text": [
      "Epoch 1/0.. Train loss: 0.619.. Test loss: 0.431.. Test accuracy: 0.972\n",
      "Epoch 2/1.. Train loss: 0.433.. Test loss: 0.225.. Test accuracy: 1.000\n",
      "Epoch 3/2.. Train loss: 0.281.. Test loss: 0.091.. Test accuracy: 0.987\n",
      "Epoch 4/3.. Train loss: 0.203.. Test loss: 0.065.. Test accuracy: 0.972\n",
      "Epoch 5/4.. Train loss: 0.259.. Test loss: 0.055.. Test accuracy: 0.968\n"
     ]
    }
   ],
   "source": [
    "epochs = 5\n",
    "steps = 0\n",
    "print_every = 5\n",
    "running_loss = 0\n",
    "for i in range(epochs):\n",
    "    for image, labels in trainloader:\n",
    "        steps+=1\n",
    "        \n",
    "        # load the images and labels to GPU\n",
    "        image = image.to(device)\n",
    "        labels = labels.to(device)\n",
    "        \n",
    "        optimizer.zero_grad()\n",
    "        \n",
    "        output = model(image)\n",
    "        loss = criterion(output,labels)\n",
    "        loss.backward()\n",
    "        optimizer.step()\n",
    "        \n",
    "        running_loss += loss.item()\n",
    "        \n",
    "        if steps%print_every==0:         \n",
    "            acc = 0\n",
    "            test_loss = 0\n",
    "            model.eval()\n",
    "            with torch.no_grad():\n",
    "                for image, labels in testloader:\n",
    "                    image = image.to(device)\n",
    "                    labels = labels.to(device)\n",
    "                    output = model(image)\n",
    "                    \n",
    "                    batch_loss = criterion(output, labels)                    \n",
    "                    test_loss += batch_loss.item()\n",
    "                    \n",
    "                    ps = torch.exp(output)\n",
    "                    \n",
    "                    top_p, top_label = ps.topk(1,dim=1)\n",
    "                    equals = top_label==labels.view(*top_label.shape)\n",
    "                    acc += torch.mean(equals.type(torch.FloatTensor)).item()\n",
    "            print(f\"Epoch {i+1}/{i}.. \"\n",
    "                  f\"Train loss: {running_loss/print_every:.3f}.. \"\n",
    "                  f\"Test loss: {test_loss/len(testloader):.3f}.. \"\n",
    "                  f\"Test accuracy: {acc/len(testloader):.3f}\")\n",
    "            running_loss =0\n",
    "            model.train()"
   ]
  },
  {
   "cell_type": "code",
   "execution_count": 111,
   "metadata": {},
   "outputs": [],
   "source": [
    "from tkinter import Tk\n",
    "from tkinter.filedialog import askopenfilename\n",
    "\n",
    "Tk().withdraw()\n",
    "path = askopenfilename() # show an \"Open\" dialog box and return the path to the selected file\n"
   ]
  },
  {
   "cell_type": "code",
   "execution_count": 112,
   "metadata": {},
   "outputs": [
    {
     "name": "stdout",
     "output_type": "stream",
     "text": [
      "tensor([[1]], device='cuda:0')\n"
     ]
    }
   ],
   "source": [
    "loader = transforms.Compose([transforms.Resize(255),\n",
    "                                      transforms.CenterCrop(224),\n",
    "                                      transforms.ToTensor(),\n",
    "                                      transforms.Normalize([0.485, 0.456, 0.406],\n",
    "                                                           [0.229, 0.224, 0.225])])\n",
    "\n",
    "def image_loader(image_name):\n",
    "    image = Image.open(image_name)\n",
    "    image = loader(image).float() \n",
    "    return image.cuda()  #assumes that you're using GPU\n",
    "\n",
    "image = image_loader(path)\n",
    "image = image.view(1,3,224,224)\n",
    "with torch.no_grad():\n",
    "    output = model(image)\n",
    "    ps = torch.exp(output)\n",
    "    top_p, top_label = ps.topk(1,dim=1)\n",
    "print(top_label)                    "
   ]
  },
  {
   "cell_type": "code",
   "execution_count": null,
   "metadata": {},
   "outputs": [],
   "source": []
  }
 ],
 "metadata": {
  "kernelspec": {
   "display_name": "Python 3",
   "language": "python",
   "name": "python3"
  },
  "language_info": {
   "codemirror_mode": {
    "name": "ipython",
    "version": 3
   },
   "file_extension": ".py",
   "mimetype": "text/x-python",
   "name": "python",
   "nbconvert_exporter": "python",
   "pygments_lexer": "ipython3",
   "version": "3.7.4"
  }
 },
 "nbformat": 4,
 "nbformat_minor": 2
}
