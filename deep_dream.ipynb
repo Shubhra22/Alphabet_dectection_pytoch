{
 "cells": [
  {
   "cell_type": "code",
   "execution_count": 2,
   "metadata": {},
   "outputs": [],
   "source": [
    "import matplotlib.pyplot as plt\n",
    "import numpy as np\n",
    "import random\n",
    "import math\n",
    "import torch\n",
    "from torch.autograd import Variable\n",
    "from torch.optim import SGD\n",
    "from torchvision import models, transforms\n",
    "\n",
    "# Image manipulation.\n",
    "import PIL.Image\n",
    "from scipy.ndimage.filters import gaussian_filter"
   ]
  },
  {
   "cell_type": "code",
   "execution_count": 9,
   "metadata": {},
   "outputs": [],
   "source": [
    "model = models.vgg16(pretrained = True)"
   ]
  },
  {
   "cell_type": "code",
   "execution_count": 3,
   "metadata": {},
   "outputs": [],
   "source": [
    "def load_image(filename):\n",
    "    image = PIL.Image.open(filename)\n",
    "\n",
    "    return np.float32(image)"
   ]
  },
  {
   "cell_type": "code",
   "execution_count": 4,
   "metadata": {},
   "outputs": [],
   "source": [
    "def save_image(image, filename):\n",
    "    # Ensure the pixel-values are between 0 and 255.\n",
    "    image = np.clip(image, 0.0, 255.0)\n",
    "    \n",
    "    # Convert to bytes.\n",
    "    image = image.astype(np.uint8)\n",
    "    \n",
    "    # Write the image-file in jpeg-format.\n",
    "    with open(filename, 'wb') as file:\n",
    "        PIL.Image.fromarray(image).save(file, 'jpeg')"
   ]
  },
  {
   "cell_type": "code",
   "execution_count": 5,
   "metadata": {},
   "outputs": [],
   "source": [
    "def plot_image(image):\n",
    "    # Assume the pixel-values are scaled between 0 and 255.\n",
    "    \n",
    "    if False:\n",
    "        # Convert the pixel-values to the range between 0.0 and 1.0\n",
    "        image = np.clip(image/255.0, 0.0, 1.0)\n",
    "        \n",
    "        # Plot using matplotlib.\n",
    "        plt.imshow(image, interpolation='lanczos')\n",
    "        plt.show()\n",
    "    else:\n",
    "        # Ensure the pixel-values are between 0 and 255.\n",
    "        image = np.clip(image, 0.0, 255.0)\n",
    "        \n",
    "        # Convert pixels to bytes.\n",
    "        image = image.astype(np.uint8)\n",
    "\n",
    "        # Convert to a PIL-image and display it.\n",
    "        display(PIL.Image.fromarray(image))"
   ]
  },
  {
   "cell_type": "code",
   "execution_count": 6,
   "metadata": {},
   "outputs": [],
   "source": [
    "def normalize_image(x):\n",
    "    # Get the min and max values for all pixels in the input.\n",
    "    x_min = x.min()\n",
    "    x_max = x.max()\n",
    "\n",
    "    # Normalize so all values are between 0.0 and 1.0\n",
    "    x_norm = (x - x_min) / (x_max - x_min)\n",
    "    \n",
    "    return x_norm"
   ]
  },
  {
   "cell_type": "code",
   "execution_count": 7,
   "metadata": {},
   "outputs": [],
   "source": [
    "def resize_image(image, size=None, factor=None):\n",
    "    # If a rescaling-factor is provided then use it.\n",
    "    if factor is not None:\n",
    "        # Scale the numpy array's shape for height and width.\n",
    "        size = np.array(image.shape[0:2]) * factor\n",
    "        \n",
    "        # The size is floating-point because it was scaled.\n",
    "        # PIL requires the size to be integers.\n",
    "        size = size.astype(int)\n",
    "    else:\n",
    "        # Ensure the size has length 2.\n",
    "        size = size[0:2]\n",
    "    \n",
    "    # The height and width is reversed in numpy vs. PIL.\n",
    "    size = tuple(reversed(size))\n",
    "\n",
    "    # Ensure the pixel-values are between 0 and 255.\n",
    "    img = np.clip(image, 0.0, 255.0)\n",
    "    \n",
    "    # Convert the pixels to 8-bit bytes.\n",
    "    img = img.astype(np.uint8)\n",
    "    \n",
    "    # Create PIL-object from numpy array.\n",
    "    img = PIL.Image.fromarray(img)\n",
    "    \n",
    "    # Resize the image.\n",
    "    img_resized = img.resize(size, PIL.Image.LANCZOS)\n",
    "    \n",
    "    # Convert 8-bit pixel values back to floating-point.\n",
    "    img_resized = np.float32(img_resized)\n",
    "\n",
    "    return img_resized"
   ]
  },
  {
   "cell_type": "code",
   "execution_count": 8,
   "metadata": {},
   "outputs": [],
   "source": [
    "def get_tile_size(num_pixels, tile_size=400):\n",
    "    \"\"\"\n",
    "    num_pixels is the number of pixels in a dimension of the image.\n",
    "    tile_size is the desired tile-size.\n",
    "    \"\"\"\n",
    "\n",
    "    # How many times can we repeat a tile of the desired size.\n",
    "    num_tiles = int(round(num_pixels / tile_size))\n",
    "    \n",
    "    # Ensure that there is at least 1 tile.\n",
    "    num_tiles = max(1, num_tiles)\n",
    "    \n",
    "    # The actual tile-size.\n",
    "    actual_tile_size = math.ceil(num_pixels / num_tiles)\n",
    "    \n",
    "    return actual_tile_size"
   ]
  },
  {
   "cell_type": "code",
   "execution_count": null,
   "metadata": {},
   "outputs": [],
   "source": [
    "def make_step()"
   ]
  }
 ],
 "metadata": {
  "kernelspec": {
   "display_name": "Python 3",
   "language": "python",
   "name": "python3"
  },
  "language_info": {
   "codemirror_mode": {
    "name": "ipython",
    "version": 3
   },
   "file_extension": ".py",
   "mimetype": "text/x-python",
   "name": "python",
   "nbconvert_exporter": "python",
   "pygments_lexer": "ipython3",
   "version": "3.7.4"
  }
 },
 "nbformat": 4,
 "nbformat_minor": 2
}
